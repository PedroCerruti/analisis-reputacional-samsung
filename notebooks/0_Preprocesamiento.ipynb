{
 "cells": [
  {
   "cell_type": "markdown",
   "metadata": {},
   "source": [
    "## 🧼 Notebook 1: Preprocesamiento de reseñas\n",
    "\n",
    "En esta notebook se realiza la carga, limpieza y normalización inicial de los datos de reseñas recolectadas mediante scraping. Se unifican los datasets, se corrigen las fechas, se limpian los textos y se eliminan duplicados o valores nulos antes del análisis exploratorio."
   ]
  },
  {
   "cell_type": "markdown",
   "metadata": {},
   "source": [
    "## 1. Imports y configuración general"
   ]
  },
  {
   "cell_type": "code",
   "execution_count": null,
   "metadata": {},
   "outputs": [],
   "source": [
    "# Imports y configuración general\n",
    "import pandas as pd\n",
    "import json\n",
    "from datetime import datetime\n",
    "import re\n",
    "from unidecode import unidecode\n",
    "import os\n",
    "from dateparser import parse"
   ]
  },
  {
   "cell_type": "markdown",
   "metadata": {},
   "source": [
    "## 2. Configuración del entorno y rutas\n",
    "\n",
    "Se establecen las configuraciones iniciales del entorno:\n",
    "- Se declaran las rutas a los datos crudos y procesados. Estas rutas permiten guardar versiones intermedias o finales del dataset."
   ]
  },
  {
   "cell_type": "code",
   "execution_count": null,
   "metadata": {},
   "outputs": [],
   "source": [
    "# Configuración de rutas\n",
    "data_raw_dir = '../data/raw'\n",
    "data_processed_dir = '../data/processed'\n",
    "\n",
    "# Crear estructura de outputs\n",
    "output_dirs = [\n",
    "    '../outputs',\n",
    "    '../outputs/visualizations', \n",
    "    '../outputs/analysis_results',\n",
    "    '../outputs/exports',\n",
    "    '../outputs/dashboards'\n",
    "]\n",
    "\n",
    "for dir_path in output_dirs:\n",
    "    os.makedirs(dir_path, exist_ok=True)"
   ]
  },
  {
   "cell_type": "markdown",
   "metadata": {},
   "source": [
    "## 3. Función de carga y limpieza de reseñas\n",
    "\n",
    "La función `load_and_clean()` permite cargar reseñas desde un archivo `.json` y aplicar una limpieza básica.  \n",
    "Incluye los siguientes pasos:\n",
    "\n",
    "- **Carga del JSON** y conversión a DataFrame.\n",
    "- **Normalización del texto** (pasaje a minúsculas, remoción de tildes y puntuación).\n",
    "- **Conversión de fechas** desde formatos ISO o con nombres de meses en español, utilizando `dateparser`.\n",
    "- Asignación del nombre del producto y retorno del DataFrame limpio.\n",
    "\n",
    "Esta función permite reutilizar el mismo proceso para distintos productos."
   ]
  },
  {
   "cell_type": "code",
   "execution_count": null,
   "metadata": {},
   "outputs": [],
   "source": [
    "def load_and_clean(filename, product_name):\n",
    "    \"\"\"\n",
    "    Carga y limpia reseñas desde un archivo JSON.\n",
    "    \n",
    "    Realiza preprocesamiento completo incluyendo limpieza de texto,\n",
    "    normalización de fechas, validación de datos y creación de \n",
    "    variables auxiliares para análisis posterior.\n",
    "    \n",
    "    Args:\n",
    "        filename (str): Nombre del archivo JSON en data/raw\n",
    "        product_name (str): Nombre del producto para identificación\n",
    "    \n",
    "    Returns:\n",
    "        pd.DataFrame: DataFrame limpio con las reseñas procesadas\n",
    "                     Columnas: text, rating, date, useful_votes, producto,\n",
    "                              text_clean, text_length, year_month\n",
    "    \n",
    "    Raises:\n",
    "        FileNotFoundError: Si el archivo JSON no existe\n",
    "        ValueError: Si el JSON tiene estructura incorrecta\n",
    "    \n",
    "    Example:\n",
    "        >>> df = load_and_clean('comentarios_Samsung_A15.json', 'Samsung A15')\n",
    "        >>> print(len(df))  # Número de reseñas procesadas\n",
    "    \"\"\"\n",
    "    # Cargar datos desde JSON\n",
    "    file_path = os.path.join(data_raw_dir, filename)\n",
    "    with open(file_path, 'r', encoding='utf-8') as f:\n",
    "        data = json.load(f)\n",
    "    \n",
    "    # Convertir a DataFrame\n",
    "    df = pd.DataFrame(data)\n",
    "    \n",
    "    # Normalizar texto (minúsculas, sin tildes, sin puntuación)\n",
    "    def clean_text(text):\n",
    "        if pd.isna(text):\n",
    "            return ''\n",
    "        text = str(text).lower()\n",
    "        text = unidecode(text)  # Remover tildes\n",
    "        text = re.sub(r'[^\\w\\s]', ' ', text)  # Remover puntuación\n",
    "        text = re.sub(r'\\s+', ' ', text).strip()  # Normalizar espacios\n",
    "        return text\n",
    "    \n",
    "    # Aplicar limpieza de texto\n",
    "    df['text_clean'] = df['text'].apply(clean_text)\n",
    "    \n",
    "    # Calcular longitud del texto\n",
    "    df['text_length'] = df['text'].fillna('').str.len()\n",
    "    \n",
    "    # Convertir fechas usando dateparser (maneja formatos en español)\n",
    "    df['date'] = df['date'].apply(lambda x: parse(str(x), languages=['es']).strftime('%Y-%m-%d') if parse(str(x), languages=['es']) else None)\n",
    "    df['date'] = pd.to_datetime(df['date'])\n",
    "    \n",
    "    # Crear columna de año-mes para agrupaciones\n",
    "    df['year_month'] = df['date'].dt.to_period('M')\n",
    "    \n",
    "    # Agregar identificador del producto\n",
    "    df['producto'] = product_name\n",
    "    \n",
    "    print(f\"✅ {product_name}: {len(df)} reseñas cargadas y procesadas\")\n",
    "    return df"
   ]
  },
  {
   "cell_type": "markdown",
   "metadata": {},
   "source": [
    "## 4. Carga de datasets por producto\n",
    "\n",
    "Se cargan las reseñas de cada producto desde los archivos JSON generados por el scraper.\n",
    "Esto nos permite mantener trazabilidad del origen de cada reseña y preparar los datos para su posterior unificación."
   ]
  },
  {
   "cell_type": "code",
   "execution_count": null,
   "metadata": {},
   "outputs": [],
   "source": [
    "# Cargar datasets por producto\n",
    "df_samsung = load_and_clean('comentarios_Samsung_A15.json', 'Samsung A15')\n",
    "df_motorola = load_and_clean('comentarios_Motorola_G32.json', 'Motorola G32')"
   ]
  },
  {
   "cell_type": "markdown",
   "metadata": {},
   "source": [
    "## 5. Unificación, deduplicación y control de nulos\n",
    "\n",
    "Una vez cargadas y limpiadas las reseñas de cada producto:\n",
    "\n",
    "- Se concatenan en un único DataFrame (`df_total`).\n",
    "- Se eliminan duplicados basados en el texto de la reseña.\n",
    "- Se eliminan filas con valores nulos en campos clave como `text` y `rating`.\n",
    "\n",
    "Se imprime un resumen de los valores nulos y se muestra un preview del DataFrame final."
   ]
  },
  {
   "cell_type": "code",
   "execution_count": null,
   "metadata": {},
   "outputs": [],
   "source": [
    "# Unificar datasets\n",
    "df_total = pd.concat([df_samsung, df_motorola], ignore_index=True)\n",
    "\n",
    "# Eliminar duplicados\n",
    "df_total.drop_duplicates(subset=['text_clean', 'producto'], inplace=True)\n",
    "\n",
    "print(f\"📊 Total de reseñas después de deduplicación: {len(df_total)}\")"
   ]
  },
  {
   "cell_type": "markdown",
   "metadata": {},
   "source": [
    "### 5.1 Verificación del estado del DataFrame final\n",
    "\n",
    "Se exploran aspectos clave del dataset:\n",
    "\n",
    "- Cantidad de fechas faltantes.\n",
    "- Cantidad total de valores nulos por columna.\n",
    "- Distribución de las calificaciones (`rating`), útil para entender posibles sesgos.\n",
    "- Estadísticas descriptivas generales (`describe()`), que permiten anticipar outliers o errores de carga.\n",
    "\n",
    "Este chequeo asegura que los datos están listos para pasar al análisis exploratorio (EDA)."
   ]
  },
  {
   "cell_type": "code",
   "execution_count": null,
   "metadata": {},
   "outputs": [],
   "source": [
    "# Verificación de calidad de datos\n",
    "print(\"→ Información general del dataset:\")\n",
    "print(df_total.info())\n",
    "\n",
    "print(\"\\n→ Valores nulos por columna:\")\n",
    "print(df_total.isnull().sum())\n",
    "\n",
    "print(\"\\n→ Distribución de ratings:\")\n",
    "print(df_total['rating'].value_counts().sort_index())\n",
    "\n",
    "print(\"\\n→ Muestra del dataset final:\")\n",
    "print(df_total.head())"
   ]
  },
  {
   "cell_type": "markdown",
   "metadata": {},
   "source": [
    "## 6. Guardado del dataset limpio\n",
    "\n",
    "Se exportan las reseñas unificadas y procesadas a un archivo `.csv` para análisis exploratorio posterior.  \n",
    "Este archivo puede ser utilizado en notebooks siguientes para visualizaciones, NLP u otros análisis."
   ]
  },
  {
   "cell_type": "code",
   "execution_count": null,
   "metadata": {},
   "outputs": [],
   "source": [
    "# Crear directorio de salida si no existe\n",
    "os.makedirs(data_processed_dir, exist_ok=True)\n",
    "\n",
    "# Guardar en data/processed (datos principales)\n",
    "output_path = os.path.join(data_processed_dir, 'reviews_unificado.csv')\n",
    "df_total.to_csv(output_path, index=False, encoding='utf-8')\n",
    "\n",
    "# Guardar copia en outputs/analysis_results (para fácil acceso)\n",
    "output_path_analysis = '../outputs/analysis_results/00_reviews_unificado.csv'\n",
    "df_total.to_csv(output_path_analysis, index=False, encoding='utf-8')\n",
    "\n",
    "print(f\"✅ Datos guardados en: {output_path}\")\n",
    "print(f\"✅ Copia guardada en: {output_path_analysis}\")\n",
    "print(f\"📊 Total de reseñas procesadas: {len(df_total)}\")"
   ]
  }
 ],
 "metadata": {
  "kernelspec": {
   "display_name": "venv",
   "language": "python",
   "name": "python3"
  },
  "language_info": {
   "codemirror_mode": {
    "name": "ipython",
    "version": 3
   },
   "file_extension": ".py",
   "mimetype": "text/x-python",
   "name": "python",
   "nbconvert_exporter": "python",
   "pygments_lexer": "ipython3",
   "version": "3.13.1"
  }
 },
 "nbformat": 4,
 "nbformat_minor": 2
}
